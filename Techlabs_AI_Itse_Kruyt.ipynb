{
 "cells": [
  {
   "cell_type": "markdown",
   "metadata": {},
   "source": [
    "<img src=\"TechLabs.png\">"
   ]
  },
  {
   "cell_type": "markdown",
   "metadata": {},
   "source": [
    "<h2>Please enter your full name here: Itse Kruyt</h2>"
   ]
  },
  {
   "cell_type": "markdown",
   "metadata": {},
   "source": [
    "\n",
    "<p> This exam will test your knowledge in Artificial Intelligence. </p>\n",
    "<p> We will test the following: </p>\n",
    "\n",
    "- Logistic Regressions\n",
    "- Neural Networks\n",
    "- Monte Carlo Simulation"
   ]
  },
  {
   "cell_type": "markdown",
   "metadata": {},
   "source": [
    "# Question 1:\n",
    "Below is the code to import a standard dataset with breast cancer.\n",
    "When you run the cell, you will have it stored as the object \"data\",\n",
    "and the description of the dataset is printed out for you.\n",
    "\n",
    "### Your task is to create two models for classifying the diagnosis, and compare the accuracy metrics for the two:\n",
    "### 1. a) Logistic Regression: \n",
    "\"sklearn.linear_model\" offers good logit classifiers. Because the dataset is fairly small (~500 rows), we suggest that you use the \"liblinear\" solver for fitting the logit classifier.\n",
    "\n",
    "Split the dataset into a test and training (30% test / 70% training) dataset and train the model on the training dataset. Then, classify the test dataset, and compute the accuracy, which you can print as an output.\n",
    "\n",
    "P.S.: We do not expect you to regularize for type 1 or type 2 errors. Your goal is to build models that classify well the diagnosis. Also, we do not expect you to spend hours on feature engineering and/or other things that may or may not improve testing accuracy. A good answer shall just contain a sensible model and the testing accuracy."
   ]
  },
  {
   "cell_type": "code",
   "execution_count": 1,
   "metadata": {},
   "outputs": [
    {
     "name": "stdout",
     "output_type": "stream",
     "text": [
      "(569, 30)\n"
     ]
    }
   ],
   "source": [
    "import numpy as np\n",
    "\n",
    "from sklearn import datasets\n",
    "data = datasets.load_breast_cancer()\n",
    "print(np.shape(data.data))"
   ]
  },
  {
   "cell_type": "code",
   "execution_count": 3,
   "metadata": {},
   "outputs": [
    {
     "name": "stdout",
     "output_type": "stream",
     "text": [
      ".. _breast_cancer_dataset:\n",
      "\n",
      "Breast cancer wisconsin (diagnostic) dataset\n",
      "--------------------------------------------\n",
      "\n",
      "**Data Set Characteristics:**\n",
      "\n",
      "    :Number of Instances: 569\n",
      "\n",
      "    :Number of Attributes: 30 numeric, predictive attributes and the class\n",
      "\n",
      "    :Attribute Information:\n",
      "        - radius (mean of distances from center to points on the perimeter)\n",
      "        - texture (standard deviation of gray-scale values)\n",
      "        - perimeter\n",
      "        - area\n",
      "        - smoothness (local variation in radius lengths)\n",
      "        - compactness (perimeter^2 / area - 1.0)\n",
      "        - concavity (severity of concave portions of the contour)\n",
      "        - concave points (number of concave portions of the contour)\n",
      "        - symmetry \n",
      "        - fractal dimension (\"coastline approximation\" - 1)\n",
      "\n",
      "        The mean, standard error, and \"worst\" or largest (mean of the three\n",
      "        largest values) of these features were computed for each image,\n",
      "        resulting in 30 features.  For instance, field 3 is Mean Radius, field\n",
      "        13 is Radius SE, field 23 is Worst Radius.\n",
      "\n",
      "        - class:\n",
      "                - WDBC-Malignant\n",
      "                - WDBC-Benign\n",
      "\n",
      "    :Summary Statistics:\n",
      "\n",
      "    ===================================== ====== ======\n",
      "                                           Min    Max\n",
      "    ===================================== ====== ======\n",
      "    radius (mean):                        6.981  28.11\n",
      "    texture (mean):                       9.71   39.28\n",
      "    perimeter (mean):                     43.79  188.5\n",
      "    area (mean):                          143.5  2501.0\n",
      "    smoothness (mean):                    0.053  0.163\n",
      "    compactness (mean):                   0.019  0.345\n",
      "    concavity (mean):                     0.0    0.427\n",
      "    concave points (mean):                0.0    0.201\n",
      "    symmetry (mean):                      0.106  0.304\n",
      "    fractal dimension (mean):             0.05   0.097\n",
      "    radius (standard error):              0.112  2.873\n",
      "    texture (standard error):             0.36   4.885\n",
      "    perimeter (standard error):           0.757  21.98\n",
      "    area (standard error):                6.802  542.2\n",
      "    smoothness (standard error):          0.002  0.031\n",
      "    compactness (standard error):         0.002  0.135\n",
      "    concavity (standard error):           0.0    0.396\n",
      "    concave points (standard error):      0.0    0.053\n",
      "    symmetry (standard error):            0.008  0.079\n",
      "    fractal dimension (standard error):   0.001  0.03\n",
      "    radius (worst):                       7.93   36.04\n",
      "    texture (worst):                      12.02  49.54\n",
      "    perimeter (worst):                    50.41  251.2\n",
      "    area (worst):                         185.2  4254.0\n",
      "    smoothness (worst):                   0.071  0.223\n",
      "    compactness (worst):                  0.027  1.058\n",
      "    concavity (worst):                    0.0    1.252\n",
      "    concave points (worst):               0.0    0.291\n",
      "    symmetry (worst):                     0.156  0.664\n",
      "    fractal dimension (worst):            0.055  0.208\n",
      "    ===================================== ====== ======\n",
      "\n",
      "    :Missing Attribute Values: None\n",
      "\n",
      "    :Class Distribution: 212 - Malignant, 357 - Benign\n",
      "\n",
      "    :Creator:  Dr. William H. Wolberg, W. Nick Street, Olvi L. Mangasarian\n",
      "\n",
      "    :Donor: Nick Street\n",
      "\n",
      "    :Date: November, 1995\n",
      "\n",
      "This is a copy of UCI ML Breast Cancer Wisconsin (Diagnostic) datasets.\n",
      "https://goo.gl/U2Uwz2\n",
      "\n",
      "Features are computed from a digitized image of a fine needle\n",
      "aspirate (FNA) of a breast mass.  They describe\n",
      "characteristics of the cell nuclei present in the image.\n",
      "\n",
      "Separating plane described above was obtained using\n",
      "Multisurface Method-Tree (MSM-T) [K. P. Bennett, \"Decision Tree\n",
      "Construction Via Linear Programming.\" Proceedings of the 4th\n",
      "Midwest Artificial Intelligence and Cognitive Science Society,\n",
      "pp. 97-101, 1992], a classification method which uses linear\n",
      "programming to construct a decision tree.  Relevant features\n",
      "were selected using an exhaustive search in the space of 1-4\n",
      "features and 1-3 separating planes.\n",
      "\n",
      "The actual linear program used to obtain the separating plane\n",
      "in the 3-dimensional space is that described in:\n",
      "[K. P. Bennett and O. L. Mangasarian: \"Robust Linear\n",
      "Programming Discrimination of Two Linearly Inseparable Sets\",\n",
      "Optimization Methods and Software 1, 1992, 23-34].\n",
      "\n",
      "This database is also available through the UW CS ftp server:\n",
      "\n",
      "ftp ftp.cs.wisc.edu\n",
      "cd math-prog/cpo-dataset/machine-learn/WDBC/\n",
      "\n",
      ".. topic:: References\n",
      "\n",
      "   - W.N. Street, W.H. Wolberg and O.L. Mangasarian. Nuclear feature extraction \n",
      "     for breast tumor diagnosis. IS&T/SPIE 1993 International Symposium on \n",
      "     Electronic Imaging: Science and Technology, volume 1905, pages 861-870,\n",
      "     San Jose, CA, 1993.\n",
      "   - O.L. Mangasarian, W.N. Street and W.H. Wolberg. Breast cancer diagnosis and \n",
      "     prognosis via linear programming. Operations Research, 43(4), pages 570-577, \n",
      "     July-August 1995.\n",
      "   - W.H. Wolberg, W.N. Street, and O.L. Mangasarian. Machine learning techniques\n",
      "     to diagnose breast cancer from fine-needle aspirates. Cancer Letters 77 (1994) \n",
      "     163-171.\n"
     ]
    }
   ],
   "source": [
    "print(data.DESCR)"
   ]
  },
  {
   "cell_type": "code",
   "execution_count": 5,
   "metadata": {},
   "outputs": [
    {
     "data": {
      "text/plain": [
       "array([[1.799e+01, 1.038e+01, 1.228e+02, ..., 2.654e-01, 4.601e-01,\n",
       "        1.189e-01],\n",
       "       [2.057e+01, 1.777e+01, 1.329e+02, ..., 1.860e-01, 2.750e-01,\n",
       "        8.902e-02],\n",
       "       [1.969e+01, 2.125e+01, 1.300e+02, ..., 2.430e-01, 3.613e-01,\n",
       "        8.758e-02],\n",
       "       ...,\n",
       "       [1.660e+01, 2.808e+01, 1.083e+02, ..., 1.418e-01, 2.218e-01,\n",
       "        7.820e-02],\n",
       "       [2.060e+01, 2.933e+01, 1.401e+02, ..., 2.650e-01, 4.087e-01,\n",
       "        1.240e-01],\n",
       "       [7.760e+00, 2.454e+01, 4.792e+01, ..., 0.000e+00, 2.871e-01,\n",
       "        7.039e-02]])"
      ]
     },
     "execution_count": 5,
     "metadata": {},
     "output_type": "execute_result"
    }
   ],
   "source": [
    "data['data']"
   ]
  },
  {
   "cell_type": "code",
   "execution_count": 6,
   "metadata": {},
   "outputs": [],
   "source": [
    "from sklearn.model_selection import train_test_split\n",
    "x = data['data']\n",
    "y = data['target']"
   ]
  },
  {
   "cell_type": "code",
   "execution_count": 9,
   "metadata": {},
   "outputs": [],
   "source": [
    "x_train, x_test, y_train, y_test = train_test_split(x, y, test_size = 0.3)"
   ]
  },
  {
   "cell_type": "code",
   "execution_count": 10,
   "metadata": {},
   "outputs": [],
   "source": [
    "from sklearn import linear_model\n",
    "\n",
    "reg = linear_model.LogisticRegression(solver = 'liblinear')"
   ]
  },
  {
   "cell_type": "code",
   "execution_count": 11,
   "metadata": {},
   "outputs": [
    {
     "data": {
      "text/plain": [
       "LogisticRegression(C=1.0, class_weight=None, dual=False, fit_intercept=True,\n",
       "                   intercept_scaling=1, l1_ratio=None, max_iter=100,\n",
       "                   multi_class='warn', n_jobs=None, penalty='l2',\n",
       "                   random_state=None, solver='liblinear', tol=0.0001, verbose=0,\n",
       "                   warm_start=False)"
      ]
     },
     "execution_count": 11,
     "metadata": {},
     "output_type": "execute_result"
    }
   ],
   "source": [
    "reg.fit(x_train,y_train)"
   ]
  },
  {
   "cell_type": "code",
   "execution_count": 13,
   "metadata": {},
   "outputs": [
    {
     "data": {
      "text/plain": [
       "0.9532163742690059"
      ]
     },
     "execution_count": 13,
     "metadata": {},
     "output_type": "execute_result"
    }
   ],
   "source": [
    "reg.score(x_test, y_test)"
   ]
  },
  {
   "cell_type": "markdown",
   "metadata": {},
   "source": [
    "# Print the logit accuracy below:"
   ]
  },
  {
   "cell_type": "code",
   "execution_count": 15,
   "metadata": {},
   "outputs": [
    {
     "name": "stdout",
     "output_type": "stream",
     "text": [
      "\n",
      "testing set accuracy with logit is: 0.9532163742690059\n"
     ]
    }
   ],
   "source": [
    "logitacc = \"0.9532163742690059\"\n",
    "print(f\"\\ntesting set accuracy with logit is: {logitacc}\")"
   ]
  },
  {
   "cell_type": "markdown",
   "metadata": {},
   "source": [
    "### 1. b) Feedforward Neural Network:\n",
    "So far, so good. Let's see how a feedforward neural network does for the same task.\n",
    "\n",
    "Take the same train/test split as in a), and construct the following neural network, which you fit to the data:"
   ]
  },
  {
   "cell_type": "code",
   "execution_count": 33,
   "metadata": {
    "jupyter": {
     "source_hidden": true
    }
   },
   "outputs": [
    {
     "data": {
      "text/plain": [
       "['Model: \"sequential_2\"',\n",
       " '_________________________________________________________________',\n",
       " 'Layer (type)                 Output Shape              Param #   ',\n",
       " '=================================================================',\n",
       " 'dense_5 (Dense)              (None, 30)                930       ',\n",
       " '_________________________________________________________________',\n",
       " 'dense_6 (Dense)              (None, 50)                1550      ',\n",
       " '_________________________________________________________________',\n",
       " 'dense_7 (Dense)              (None, 30)                1530      ',\n",
       " '_________________________________________________________________',\n",
       " 'dense_8 (Dense)              (None, 1)                 31        ',\n",
       " '=================================================================',\n",
       " 'Total params: 4,041',\n",
       " 'Trainable params: 4,041',\n",
       " 'Non-trainable params: 0',\n",
       " '_________________________________________________________________']"
      ]
     },
     "execution_count": 33,
     "metadata": {},
     "output_type": "execute_result"
    }
   ],
   "source": [
    "import pickle\n",
    "pickle.loads(b'\\x80\\x03]q\\x00(X\\x15\\x00\\x00\\x00Model: \"sequential_2\"q\\x01XA\\x00\\x00\\x00_________________________________________________________________q\\x02XA\\x00\\x00\\x00Layer (type)                 Output Shape              Param #   q\\x03XA\\x00\\x00\\x00=================================================================q\\x04XA\\x00\\x00\\x00dense_5 (Dense)              (None, 30)                930       q\\x05XA\\x00\\x00\\x00_________________________________________________________________q\\x06XA\\x00\\x00\\x00dense_6 (Dense)              (None, 50)                1550      q\\x07XA\\x00\\x00\\x00_________________________________________________________________q\\x08XA\\x00\\x00\\x00dense_7 (Dense)              (None, 30)                1530      q\\tXA\\x00\\x00\\x00_________________________________________________________________q\\nXA\\x00\\x00\\x00dense_8 (Dense)              (None, 1)                 31        q\\x0bXA\\x00\\x00\\x00=================================================================q\\x0cX\\x13\\x00\\x00\\x00Total params: 4,041q\\rX\\x17\\x00\\x00\\x00Trainable params: 4,041q\\x0eX\\x17\\x00\\x00\\x00Non-trainable params: 0q\\x0fXA\\x00\\x00\\x00_________________________________________________________________q\\x10e.')"
   ]
  },
  {
   "cell_type": "markdown",
   "metadata": {},
   "source": [
    "### You can use the library keras to contruct the ANN. Since we are dealing with a classification problem, we recommend binary_crossentropy as a loss function.\n",
    "Choose a reasonable batch size and epoch count and train the model.\n",
    "### Here again, print the testing dataset accuracy:"
   ]
  },
  {
   "cell_type": "code",
   "execution_count": 34,
   "metadata": {},
   "outputs": [],
   "source": [
    "import tensorflow as tf"
   ]
  },
  {
   "cell_type": "code",
   "execution_count": 36,
   "metadata": {},
   "outputs": [],
   "source": [
    "from tensorflow import keras"
   ]
  },
  {
   "cell_type": "code",
   "execution_count": 58,
   "metadata": {},
   "outputs": [
    {
     "name": "stdout",
     "output_type": "stream",
     "text": [
      "Epoch 1/50\n",
      "20/20 [==============================] - 1s 1ms/step - loss: 5.5428 - accuracy: 0.6365\n",
      "Epoch 2/50\n",
      "20/20 [==============================] - 0s 2ms/step - loss: 6.1040 - accuracy: 0.5997\n",
      "Epoch 3/50\n",
      "20/20 [==============================] - 0s 2ms/step - loss: 5.8845 - accuracy: 0.6141\n",
      "Epoch 4/50\n",
      "20/20 [==============================] - 0s 4ms/step - loss: 5.1940 - accuracy: 0.6594\n",
      "Epoch 5/50\n",
      "20/20 [==============================] - 0s 2ms/step - loss: 5.9790 - accuracy: 0.6079\n",
      "Epoch 6/50\n",
      "20/20 [==============================] - 0s 3ms/step - loss: 5.7043 - accuracy: 0.6259\n",
      "Epoch 7/50\n",
      "20/20 [==============================] - 0s 3ms/step - loss: 6.1523 - accuracy: 0.5965\n",
      "Epoch 8/50\n",
      "20/20 [==============================] - 0s 8ms/step - loss: 5.8821 - accuracy: 0.6143\n",
      "Epoch 9/50\n",
      "20/20 [==============================] - 0s 4ms/step - loss: 5.3751 - accuracy: 0.6475\n",
      "Epoch 10/50\n",
      "20/20 [==============================] - 0s 9ms/step - loss: 5.5659 - accuracy: 0.6350\n",
      "Epoch 11/50\n",
      "20/20 [==============================] - 0s 7ms/step - loss: 5.0950 - accuracy: 0.6659\n",
      "Epoch 12/50\n",
      "20/20 [==============================] - 0s 2ms/step - loss: 5.7320 - accuracy: 0.6241\n",
      "Epoch 13/50\n",
      "20/20 [==============================] - 0s 2ms/step - loss: 5.3016 - accuracy: 0.6523\n",
      "Epoch 14/50\n",
      "20/20 [==============================] - 0s 2ms/step - loss: 5.8695 - accuracy: 0.6151\n",
      "Epoch 15/50\n",
      "20/20 [==============================] - 0s 3ms/step - loss: 5.9745 - accuracy: 0.6082\n",
      "Epoch 16/50\n",
      "20/20 [==============================] - 0s 3ms/step - loss: 5.6318 - accuracy: 0.6307\n",
      "Epoch 17/50\n",
      "20/20 [==============================] - 0s 3ms/step - loss: 5.4967 - accuracy: 0.6395\n",
      "Epoch 18/50\n",
      "20/20 [==============================] - 0s 2ms/step - loss: 5.5163 - accuracy: 0.6383\n",
      "Epoch 19/50\n",
      "20/20 [==============================] - 0s 2ms/step - loss: 5.6509 - accuracy: 0.6294\n",
      "Epoch 20/50\n",
      "20/20 [==============================] - 0s 2ms/step - loss: 5.7201 - accuracy: 0.6249\n",
      "Epoch 21/50\n",
      "20/20 [==============================] - 0s 2ms/step - loss: 5.8697 - accuracy: 0.6151\n",
      "Epoch 22/50\n",
      "20/20 [==============================] - 0s 3ms/step - loss: 5.7496 - accuracy: 0.6230\n",
      "Epoch 23/50\n",
      "20/20 [==============================] - 0s 2ms/step - loss: 5.6165 - accuracy: 0.6317\n",
      "Epoch 24/50\n",
      "20/20 [==============================] - 0s 3ms/step - loss: 5.5837 - accuracy: 0.6338\n",
      "Epoch 25/50\n",
      "20/20 [==============================] - 0s 2ms/step - loss: 5.9767 - accuracy: 0.6081\n",
      "Epoch 26/50\n",
      "20/20 [==============================] - 0s 2ms/step - loss: 6.0092 - accuracy: 0.6059\n",
      "Epoch 27/50\n",
      "20/20 [==============================] - 0s 4ms/step - loss: 5.4097 - accuracy: 0.6452\n",
      "Epoch 28/50\n",
      "20/20 [==============================] - 0s 3ms/step - loss: 6.0202 - accuracy: 0.6052\n",
      "Epoch 29/50\n",
      "20/20 [==============================] - 0s 2ms/step - loss: 5.1929 - accuracy: 0.6595\n",
      "Epoch 30/50\n",
      "20/20 [==============================] - 0s 4ms/step - loss: 5.8669 - accuracy: 0.6153\n",
      "Epoch 31/50\n",
      "20/20 [==============================] - 0s 3ms/step - loss: 5.2011 - accuracy: 0.6589\n",
      "Epoch 32/50\n",
      "20/20 [==============================] - 0s 5ms/step - loss: 6.0232 - accuracy: 0.6050\n",
      "Epoch 33/50\n",
      "20/20 [==============================] - 0s 3ms/step - loss: 5.4588 - accuracy: 0.6420\n",
      "Epoch 34/50\n",
      "20/20 [==============================] - 0s 4ms/step - loss: 5.0092 - accuracy: 0.6715\n",
      "Epoch 35/50\n",
      "20/20 [==============================] - 0s 2ms/step - loss: 5.8120 - accuracy: 0.6189\n",
      "Epoch 36/50\n",
      "20/20 [==============================] - 0s 2ms/step - loss: 5.4793 - accuracy: 0.6407\n",
      "Epoch 37/50\n",
      "20/20 [==============================] - 0s 2ms/step - loss: 5.7750 - accuracy: 0.6213\n",
      "Epoch 38/50\n",
      "20/20 [==============================] - 0s 2ms/step - loss: 5.3598 - accuracy: 0.6485\n",
      "Epoch 39/50\n",
      "20/20 [==============================] - 0s 2ms/step - loss: 5.7898 - accuracy: 0.6203\n",
      "Epoch 40/50\n",
      "20/20 [==============================] - 0s 2ms/step - loss: 5.5087 - accuracy: 0.6388\n",
      "Epoch 41/50\n",
      "20/20 [==============================] - 0s 2ms/step - loss: 5.7335 - accuracy: 0.6240\n",
      "Epoch 42/50\n",
      "20/20 [==============================] - 0s 2ms/step - loss: 5.9223 - accuracy: 0.6116\n",
      "Epoch 43/50\n",
      "20/20 [==============================] - 0s 2ms/step - loss: 5.5067 - accuracy: 0.6389\n",
      "Epoch 44/50\n",
      "20/20 [==============================] - 0s 2ms/step - loss: 5.4311 - accuracy: 0.6438\n",
      "Epoch 45/50\n",
      "20/20 [==============================] - 0s 3ms/step - loss: 5.0374 - accuracy: 0.6697\n",
      "Epoch 46/50\n",
      "20/20 [==============================] - 0s 2ms/step - loss: 5.7656 - accuracy: 0.6219\n",
      "Epoch 47/50\n",
      "20/20 [==============================] - 0s 2ms/step - loss: 5.6982 - accuracy: 0.6263\n",
      "Epoch 48/50\n",
      "20/20 [==============================] - 0s 2ms/step - loss: 6.1153 - accuracy: 0.5990\n",
      "Epoch 49/50\n",
      "20/20 [==============================] - 0s 3ms/step - loss: 5.7364 - accuracy: 0.6238\n",
      "Epoch 50/50\n",
      "20/20 [==============================] - 0s 3ms/step - loss: 5.2387 - accuracy: 0.6565\n"
     ]
    },
    {
     "data": {
      "text/plain": [
       "<tensorflow.python.keras.callbacks.History at 0x7fb9c9f0d150>"
      ]
     },
     "execution_count": 58,
     "metadata": {},
     "output_type": "execute_result"
    }
   ],
   "source": [
    "model = tf.keras.models.Sequential([\n",
    "    tf.keras.layers.Dense(30, activation=\"relu\"),\n",
    "    tf.keras.layers.Dense(50, activation=\"relu\"),\n",
    "    tf.keras.layers.Dense(30, activation=\"relu\"),\n",
    "    tf.keras.layers.Dense(1)])\n",
    "\n",
    "model.compile(optimizer='sgd',\n",
    "              loss='binary_crossentropy',\n",
    "              metrics=['accuracy'])\n",
    "model.fit(x_train, y_train, epochs=50, batch_size = 20)"
   ]
  },
  {
   "cell_type": "code",
   "execution_count": 59,
   "metadata": {},
   "outputs": [
    {
     "name": "stdout",
     "output_type": "stream",
     "text": [
      "6/6 - 0s - loss: 5.8857 - accuracy: 0.6140\n"
     ]
    },
    {
     "data": {
      "text/plain": [
       "[5.8856706619262695, 0.6140350699424744]"
      ]
     },
     "execution_count": 59,
     "metadata": {},
     "output_type": "execute_result"
    }
   ],
   "source": [
    "model.evaluate(x_test, y_test, verbose = 2)"
   ]
  },
  {
   "cell_type": "code",
   "execution_count": 60,
   "metadata": {},
   "outputs": [
    {
     "name": "stdout",
     "output_type": "stream",
     "text": [
      "\n",
      "testing set accuracy with ANN is: 0.6140\n"
     ]
    }
   ],
   "source": [
    "ANNacc = \"0.6140\"\n",
    "print(f\"\\ntesting set accuracy with ANN is: {ANNacc}\")"
   ]
  },
  {
   "cell_type": "markdown",
   "metadata": {},
   "source": [
    "### 1. c) Compare the performance of the neural net with the logit. Which one seems better at the job and why might that be?\n",
    "Please also comment on which model you would choose to implement in a case like this and why."
   ]
  },
  {
   "cell_type": "code",
   "execution_count": 61,
   "metadata": {},
   "outputs": [
    {
     "data": {
      "text/plain": [
       "'\\nThe ANN is significantly worse at this task, scoring more than 30% lower in accuracy than our logit regression model.\\nThis could be the case because we are working with tabular data that is not very high in complexity. In addition, it is a small dataset. Neural Nets work better with large datasets.\\nNeural Nets work better with highly complex datasets, while logit models tend to do better with tabular data.\\n\\nAs such, the logit regression is the better model for this task\\n'"
      ]
     },
     "execution_count": 61,
     "metadata": {},
     "output_type": "execute_result"
    }
   ],
   "source": [
    "'''\n",
    "The ANN is significantly worse at this task, scoring more than 30% lower in accuracy than our logit regression model.\n",
    "This could be the case because we are working with tabular data that is not very high in complexity. In addition, it is a small dataset. Neural Nets work better with large datasets.\n",
    "Neural Nets work better with highly complex datasets, while logit models tend to do better with tabular data.\n",
    "\n",
    "As such, the logit regression is the better model for this task, because it has the highest accuracy.\n",
    "'''"
   ]
  },
  {
   "cell_type": "markdown",
   "metadata": {},
   "source": [
    "# Question 2:\n",
    "### Your coding skills have gained you a job as an options trader at a successful hedge fund! Congratulations!!\n",
    "\n",
    "At the first day, your boss comes to you and asks you, whether he should buy a _call option_* with a certain set of characteristics for 1€.\n",
    "\n",
    "    *A call option gives you the right (but not obligation) to buy a share for a certain strike price. In other words, if the stock price is higher than the strike price, you get the difference, otherwise, you get 0: \n",
    "    \n",
    "    callpayoff = max(stockprice - strikeprice, 0) \n",
    "\n",
    "To price the option, you shall build a monte-carlo simulator which generatates _1 000 000_ random walks, each representing the stock price in one year, which is when the option can be expired. By taking the average of these payouts, you will get the expected payout at expiry!\n",
    "\n",
    "Luckily, your boss has also given you the characteristics and hints for how the stock price moves: \n",
    "\n",
    "The stock price follows a student T distribution with 3 degrees of freedom (the rvs function within the t class from scipy.stats package is a great tool for creating random walks with this distribution: https://docs.scipy.org/doc/scipy/reference/generated/scipy.stats.t.html  ctrl+f \"rvs\") \n",
    "\n",
    "- The stock price today: 69\n",
    "- Stock returns follow student T distribution with 3 degrees of freedom\n",
    "- drift of 10% per year \n",
    "- volatility of 20%\n",
    "- strike price of the option is 96\n",
    "\n",
    "### Build a function that returns the price of the call option, and shows your boss what payout he can expect from the option in order to explain him, whether he should buy it or not.\n",
    "\n",
    "    P.S.: If you run into trouble on your way, you can always ask for tips from your boss and since he is a nice guy, he will also give a good grade for all attempts!"
   ]
  },
  {
   "cell_type": "code",
   "execution_count": 73,
   "metadata": {},
   "outputs": [],
   "source": [
    "from scipy import stats"
   ]
  },
  {
   "cell_type": "code",
   "execution_count": 65,
   "metadata": {},
   "outputs": [],
   "source": [
    "stock_price = 69\n",
    "strike_price = 96"
   ]
  },
  {
   "cell_type": "code",
   "execution_count": 97,
   "metadata": {},
   "outputs": [],
   "source": [
    "all_prices = []\n",
    "\n",
    "#for each year simulate a random stock price according to statistics given\n",
    "stock_returns = t.rvs(df = 3, size=1000000, loc = stock_price, scale = (stock_price*0.2))\n",
    "#calculate payoff for simulated year\n",
    "for returns in stock_returns:\n",
    "    callpayoff = max(returns - strike_price, 0)\n",
    "    all_prices.append(callpayoff)"
   ]
  },
  {
   "cell_type": "code",
   "execution_count": 98,
   "metadata": {},
   "outputs": [],
   "source": [
    "#Add drift at bottom and top of data (altough I don't know what drift is)\n",
    "all_prices.append((0.1*len(all_prices)*min(all_prices)))\n",
    "all_prices.append((0.1*len(all_prices)*max(all_prices)))"
   ]
  },
  {
   "cell_type": "code",
   "execution_count": 100,
   "metadata": {},
   "outputs": [
    {
     "name": "stdout",
     "output_type": "stream",
     "text": [
      "Hey boss, the expected payout is between 0 and 131206371.21.\n"
     ]
    }
   ],
   "source": [
    "#Show interval of possible payouts\n",
    "minimum = min(all_prices)\n",
    "maximum = max(all_prices)\n",
    "\n",
    "print(f'Hey boss, the expected payout is between {minimum} and {round(maximum,2)}.')"
   ]
  },
  {
   "cell_type": "code",
   "execution_count": 101,
   "metadata": {},
   "outputs": [
    {
     "name": "stdout",
     "output_type": "stream",
     "text": [
      "(array([1.000001e+06, 0.000000e+00, 0.000000e+00, 0.000000e+00,\n",
      "       0.000000e+00, 0.000000e+00, 0.000000e+00, 0.000000e+00,\n",
      "       0.000000e+00, 1.000000e+00]), array([0.00000000e+00, 1.31206371e+07, 2.62412742e+07, 3.93619114e+07,\n",
      "       5.24825485e+07, 6.56031856e+07, 7.87238227e+07, 9.18444598e+07,\n",
      "       1.04965097e+08, 1.18085734e+08, 1.31206371e+08]), <a list of 10 Patch objects>)\n"
     ]
    },
    {
     "data": {
      "image/png": "[encoded data removed]",
      "text/plain": [
       "<Figure size 432x288 with 1 Axes>"
      ]
     },
     "metadata": {
      "needs_background": "light"
     },
     "output_type": "display_data"
    }
   ],
   "source": [
    "#show distribution of data\n",
    "import matplotlib.pyplot as plt\n",
    "print(plt.hist(x=all_prices))"
   ]
  },
  {
   "cell_type": "code",
   "execution_count": 102,
   "metadata": {},
   "outputs": [
    {
     "name": "stdout",
     "output_type": "stream",
     "text": [
      "As the probability of getting 0 is very high, I would advise against buying the call option.\n"
     ]
    }
   ],
   "source": [
    "print('As the probability of getting 0 is very high, I would advise against buying the call option.')"
   ]
  },
  {
   "cell_type": "markdown",
   "metadata": {},
   "source": [
    "# Good luck!\n",
    "\n",
    "Don't forget: google, github and stack overflow are your best friends!\n"
   ]
  }
 ],
 "metadata": {
  "kernelspec": {
   "display_name": "Python 3",
   "language": "python",
   "name": "python3"
  },
  "language_info": {
   "codemirror_mode": {
    "name": "ipython",
    "version": 3
   },
   "file_extension": ".py",
   "mimetype": "text/x-python",
   "name": "python",
   "nbconvert_exporter": "python",
   "pygments_lexer": "ipython3",
   "version": "3.7.4"
  }
 },
 "nbformat": 4,
 "nbformat_minor": 4
}
